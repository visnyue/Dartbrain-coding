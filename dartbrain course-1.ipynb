{
 "cells": [
  {
   "cell_type": "code",
   "execution_count": 1,
   "metadata": {},
   "outputs": [
    {
     "name": "stdout",
     "output_type": "stream",
     "text": [
      "Requirement already satisfied: pybids in c:\\users\\zy\\anaconda3\\lib\\site-packages (0.14.0)\n",
      "Requirement already satisfied: pandas>=0.23 in c:\\users\\zy\\anaconda3\\lib\\site-packages (from pybids) (1.1.3)\n",
      "Requirement already satisfied: nibabel>=2.1 in c:\\users\\zy\\anaconda3\\lib\\site-packages (from pybids) (3.2.2)\n",
      "Requirement already satisfied: numpy in c:\\users\\zy\\anaconda3\\lib\\site-packages (from pybids) (1.19.2)\n",
      "Requirement already satisfied: sqlalchemy<1.4.0.dev0 in c:\\users\\zy\\anaconda3\\lib\\site-packages (from pybids) (1.3.20)\n",
      "Requirement already satisfied: formulaic~=0.2.4 in c:\\users\\zy\\anaconda3\\lib\\site-packages (from pybids) (0.2.4)\n",
      "Requirement already satisfied: bids-validator in c:\\users\\zy\\anaconda3\\lib\\site-packages (from pybids) (1.8.9)\n",
      "Requirement already satisfied: click in c:\\users\\zy\\anaconda3\\lib\\site-packages (from pybids) (7.1.2)\n",
      "Requirement already satisfied: scipy in c:\\users\\zy\\anaconda3\\lib\\site-packages (from pybids) (1.5.2)\n",
      "Requirement already satisfied: num2words in c:\\users\\zy\\anaconda3\\lib\\site-packages (from pybids) (0.5.10)\n",
      "Requirement already satisfied: python-dateutil>=2.7.3 in c:\\users\\zy\\anaconda3\\lib\\site-packages (from pandas>=0.23->pybids) (2.8.1)\n",
      "Requirement already satisfied: pytz>=2017.2 in c:\\users\\zy\\anaconda3\\lib\\site-packages (from pandas>=0.23->pybids) (2020.1)\n",
      "Requirement already satisfied: setuptools in c:\\users\\zy\\anaconda3\\lib\\site-packages (from nibabel>=2.1->pybids) (50.3.1.post20201107)\n",
      "Requirement already satisfied: packaging>=14.3 in c:\\users\\zy\\anaconda3\\lib\\site-packages (from nibabel>=2.1->pybids) (20.4)\n",
      "Requirement already satisfied: wrapt in c:\\users\\zy\\anaconda3\\lib\\site-packages (from formulaic~=0.2.4->pybids) (1.11.2)\n",
      "Requirement already satisfied: astor in c:\\users\\zy\\anaconda3\\lib\\site-packages (from formulaic~=0.2.4->pybids) (0.8.1)\n",
      "Requirement already satisfied: interface-meta>=1.2 in c:\\users\\zy\\anaconda3\\lib\\site-packages (from formulaic~=0.2.4->pybids) (1.2.4)\n",
      "Requirement already satisfied: docopt>=0.6.2 in c:\\users\\zy\\anaconda3\\lib\\site-packages (from num2words->pybids) (0.6.2)\n",
      "Requirement already satisfied: six>=1.5 in c:\\users\\zy\\anaconda3\\lib\\site-packages (from python-dateutil>=2.7.3->pandas>=0.23->pybids) (1.15.0)\n",
      "Requirement already satisfied: pyparsing>=2.0.2 in c:\\users\\zy\\anaconda3\\lib\\site-packages (from packaging>=14.3->nibabel>=2.1->pybids) (2.4.7)\n"
     ]
    }
   ],
   "source": [
    "!pip install pybids"
   ]
  },
  {
   "cell_type": "code",
   "execution_count": 5,
   "metadata": {},
   "outputs": [
    {
     "data": {
      "text/plain": [
       "[<BIDSJSONFile filename='C:\\Users\\ZY\\Dropbox\\Dartbrains\\data\\Localizer\\dataset_description.json'>,\n",
       " <BIDSFile filename='C:\\Users\\ZY\\Dropbox\\Dartbrains\\data\\Localizer\\derivatives\\.DS_Store'>,\n",
       " <BIDSFile filename='C:\\Users\\ZY\\Dropbox\\Dartbrains\\data\\Localizer\\derivatives\\fmriprep\\.DS_Store'>,\n",
       " <BIDSJSONFile filename='C:\\Users\\ZY\\Dropbox\\Dartbrains\\data\\Localizer\\derivatives\\fmriprep\\dataset_description.json'>,\n",
       " <BIDSFile filename='C:\\Users\\ZY\\Dropbox\\Dartbrains\\data\\Localizer\\derivatives\\fmriprep\\logs\\CITATION.bib'>,\n",
       " <BIDSFile filename='C:\\Users\\ZY\\Dropbox\\Dartbrains\\data\\Localizer\\derivatives\\fmriprep\\logs\\CITATION.html'>,\n",
       " <BIDSFile filename='C:\\Users\\ZY\\Dropbox\\Dartbrains\\data\\Localizer\\derivatives\\fmriprep\\logs\\CITATION.md'>,\n",
       " <BIDSFile filename='C:\\Users\\ZY\\Dropbox\\Dartbrains\\data\\Localizer\\derivatives\\fmriprep\\logs\\CITATION.tex'>,\n",
       " <BIDSFile filename='C:\\Users\\ZY\\Dropbox\\Dartbrains\\data\\Localizer\\derivatives\\fmriprep\\sub-S01.html'>,\n",
       " <BIDSFile filename='C:\\Users\\ZY\\Dropbox\\Dartbrains\\data\\Localizer\\derivatives\\fmriprep\\sub-S01\\.DS_Store'>]"
      ]
     },
     "execution_count": 5,
     "metadata": {},
     "output_type": "execute_result"
    }
   ],
   "source": [
    "from bids import BIDSLayout, BIDSValidator\n",
    "import os\n",
    "\n",
    "data_dir = '/Users/ZY/Dropbox/Dartbrains/data/Localizer'\n",
    "layout = BIDSLayout(data_dir, derivatives=True)\n",
    "layout\n",
    "layout.get()[:10]"
   ]
  },
  {
   "cell_type": "code",
   "execution_count": 8,
   "metadata": {},
   "outputs": [
    {
     "data": {
      "text/plain": [
       "['S13', 'S86', 'S62', 'S75', 'S52', 'S53', 'S29', 'S17', 'S45', 'S92']"
      ]
     },
     "execution_count": 8,
     "metadata": {},
     "output_type": "execute_result"
    }
   ],
   "source": [
    "layout.get(target='subject', return_type='id', scope='derivatives')[:10]"
   ]
  },
  {
   "cell_type": "code",
   "execution_count": 7,
   "metadata": {
    "scrolled": true
   },
   "outputs": [
    {
     "data": {
      "text/plain": [
       "['C:\\\\Users\\\\ZY\\\\Dropbox\\\\Dartbrains\\\\data\\\\Localizer\\\\sub-S01\\\\func\\\\sub-S01_task-localizer_bold.nii.gz',\n",
       " 'C:\\\\Users\\\\ZY\\\\Dropbox\\\\Dartbrains\\\\data\\\\Localizer\\\\sub-S02\\\\func\\\\sub-S02_task-localizer_bold.nii.gz',\n",
       " 'C:\\\\Users\\\\ZY\\\\Dropbox\\\\Dartbrains\\\\data\\\\Localizer\\\\sub-S03\\\\func\\\\sub-S03_task-localizer_bold.nii.gz',\n",
       " 'C:\\\\Users\\\\ZY\\\\Dropbox\\\\Dartbrains\\\\data\\\\Localizer\\\\sub-S04\\\\func\\\\sub-S04_task-localizer_bold.nii.gz',\n",
       " 'C:\\\\Users\\\\ZY\\\\Dropbox\\\\Dartbrains\\\\data\\\\Localizer\\\\sub-S05\\\\func\\\\sub-S05_task-localizer_bold.nii.gz',\n",
       " 'C:\\\\Users\\\\ZY\\\\Dropbox\\\\Dartbrains\\\\data\\\\Localizer\\\\sub-S06\\\\func\\\\sub-S06_task-localizer_bold.nii.gz',\n",
       " 'C:\\\\Users\\\\ZY\\\\Dropbox\\\\Dartbrains\\\\data\\\\Localizer\\\\sub-S07\\\\func\\\\sub-S07_task-localizer_bold.nii.gz',\n",
       " 'C:\\\\Users\\\\ZY\\\\Dropbox\\\\Dartbrains\\\\data\\\\Localizer\\\\sub-S08\\\\func\\\\sub-S08_task-localizer_bold.nii.gz',\n",
       " 'C:\\\\Users\\\\ZY\\\\Dropbox\\\\Dartbrains\\\\data\\\\Localizer\\\\sub-S09\\\\func\\\\sub-S09_task-localizer_bold.nii.gz',\n",
       " 'C:\\\\Users\\\\ZY\\\\Dropbox\\\\Dartbrains\\\\data\\\\Localizer\\\\sub-S10\\\\func\\\\sub-S10_task-localizer_bold.nii.gz']"
      ]
     },
     "execution_count": 7,
     "metadata": {},
     "output_type": "execute_result"
    }
   ],
   "source": [
    "layout.get(target='subject', scope='raw', suffix='bold', return_type='file')[:10]"
   ]
  },
  {
   "cell_type": "code",
   "execution_count": 9,
   "metadata": {},
   "outputs": [
    {
     "data": {
      "text/plain": [
       "<BIDSJSONFile filename='C:\\Users\\ZY\\Dropbox\\Dartbrains\\data\\Localizer\\dataset_description.json'>"
      ]
     },
     "execution_count": 9,
     "metadata": {},
     "output_type": "execute_result"
    }
   ],
   "source": [
    "f = layout.get()[0]\n",
    "f"
   ]
  },
  {
   "cell_type": "code",
   "execution_count": 10,
   "metadata": {},
   "outputs": [
    {
     "data": {
      "text/plain": [
       "'C:\\\\Users\\\\ZY\\\\Dropbox\\\\Dartbrains\\\\data\\\\Localizer\\\\dataset_description.json'"
      ]
     },
     "execution_count": 10,
     "metadata": {},
     "output_type": "execute_result"
    }
   ],
   "source": [
    "f.path"
   ]
  },
  {
   "cell_type": "code",
   "execution_count": 11,
   "metadata": {},
   "outputs": [
    {
     "data": {
      "text/plain": [
       "['localizer']"
      ]
     },
     "execution_count": 11,
     "metadata": {},
     "output_type": "execute_result"
    }
   ],
   "source": [
    "layout.get_task()"
   ]
  },
  {
   "cell_type": "code",
   "execution_count": 12,
   "metadata": {},
   "outputs": [
    {
     "data": {
      "text/plain": [
       "[<BIDSImageFile filename='C:\\Users\\ZY\\Dropbox\\Dartbrains\\data\\Localizer\\sub-S01\\func\\sub-S01_task-localizer_bold.nii.gz'>,\n",
       " <BIDSImageFile filename='C:\\Users\\ZY\\Dropbox\\Dartbrains\\data\\Localizer\\sub-S02\\func\\sub-S02_task-localizer_bold.nii.gz'>,\n",
       " <BIDSImageFile filename='C:\\Users\\ZY\\Dropbox\\Dartbrains\\data\\Localizer\\sub-S03\\func\\sub-S03_task-localizer_bold.nii.gz'>,\n",
       " <BIDSImageFile filename='C:\\Users\\ZY\\Dropbox\\Dartbrains\\data\\Localizer\\sub-S04\\func\\sub-S04_task-localizer_bold.nii.gz'>,\n",
       " <BIDSImageFile filename='C:\\Users\\ZY\\Dropbox\\Dartbrains\\data\\Localizer\\sub-S05\\func\\sub-S05_task-localizer_bold.nii.gz'>,\n",
       " <BIDSImageFile filename='C:\\Users\\ZY\\Dropbox\\Dartbrains\\data\\Localizer\\sub-S06\\func\\sub-S06_task-localizer_bold.nii.gz'>,\n",
       " <BIDSImageFile filename='C:\\Users\\ZY\\Dropbox\\Dartbrains\\data\\Localizer\\sub-S07\\func\\sub-S07_task-localizer_bold.nii.gz'>,\n",
       " <BIDSImageFile filename='C:\\Users\\ZY\\Dropbox\\Dartbrains\\data\\Localizer\\sub-S08\\func\\sub-S08_task-localizer_bold.nii.gz'>,\n",
       " <BIDSImageFile filename='C:\\Users\\ZY\\Dropbox\\Dartbrains\\data\\Localizer\\sub-S09\\func\\sub-S09_task-localizer_bold.nii.gz'>,\n",
       " <BIDSImageFile filename='C:\\Users\\ZY\\Dropbox\\Dartbrains\\data\\Localizer\\sub-S10\\func\\sub-S10_task-localizer_bold.nii.gz'>]"
      ]
     },
     "execution_count": 12,
     "metadata": {},
     "output_type": "execute_result"
    }
   ],
   "source": [
    "layout.get(task='localizer', suffix='bold', scope='raw')[:10]"
   ]
  },
  {
   "cell_type": "code",
   "execution_count": 13,
   "metadata": {},
   "outputs": [
    {
     "data": {
      "text/plain": [
       "'sub-S01_task-localizer_desc-carpetplot_bold.svg'"
      ]
     },
     "execution_count": 13,
     "metadata": {},
     "output_type": "execute_result"
    }
   ],
   "source": [
    "f = layout.get(task='localizer')[0].filename\n",
    "f"
   ]
  },
  {
   "cell_type": "code",
   "execution_count": 14,
   "metadata": {},
   "outputs": [
    {
     "data": {
      "text/html": [
       "<div>\n",
       "<style scoped>\n",
       "    .dataframe tbody tr th:only-of-type {\n",
       "        vertical-align: middle;\n",
       "    }\n",
       "\n",
       "    .dataframe tbody tr th {\n",
       "        vertical-align: top;\n",
       "    }\n",
       "\n",
       "    .dataframe thead th {\n",
       "        text-align: right;\n",
       "    }\n",
       "</style>\n",
       "<table border=\"1\" class=\"dataframe\">\n",
       "  <thead>\n",
       "    <tr style=\"text-align: right;\">\n",
       "      <th>entity</th>\n",
       "      <th>path</th>\n",
       "      <th>datatype</th>\n",
       "      <th>extension</th>\n",
       "      <th>subject</th>\n",
       "      <th>suffix</th>\n",
       "      <th>task</th>\n",
       "    </tr>\n",
       "  </thead>\n",
       "  <tbody>\n",
       "    <tr>\n",
       "      <th>0</th>\n",
       "      <td>C:\\Users\\ZY\\Dropbox\\Dartbrains\\data\\Localizer\\...</td>\n",
       "      <td>NaN</td>\n",
       "      <td>.json</td>\n",
       "      <td>NaN</td>\n",
       "      <td>description</td>\n",
       "      <td>NaN</td>\n",
       "    </tr>\n",
       "    <tr>\n",
       "      <th>1</th>\n",
       "      <td>C:\\Users\\ZY\\Dropbox\\Dartbrains\\data\\Localizer\\...</td>\n",
       "      <td>NaN</td>\n",
       "      <td>.DS_Store</td>\n",
       "      <td>NaN</td>\n",
       "      <td></td>\n",
       "      <td>NaN</td>\n",
       "    </tr>\n",
       "    <tr>\n",
       "      <th>2</th>\n",
       "      <td>C:\\Users\\ZY\\Dropbox\\Dartbrains\\data\\Localizer\\...</td>\n",
       "      <td>NaN</td>\n",
       "      <td>.json</td>\n",
       "      <td>NaN</td>\n",
       "      <td>participants</td>\n",
       "      <td>NaN</td>\n",
       "    </tr>\n",
       "    <tr>\n",
       "      <th>3</th>\n",
       "      <td>C:\\Users\\ZY\\Dropbox\\Dartbrains\\data\\Localizer\\...</td>\n",
       "      <td>NaN</td>\n",
       "      <td>.tsv</td>\n",
       "      <td>NaN</td>\n",
       "      <td>participants</td>\n",
       "      <td>NaN</td>\n",
       "    </tr>\n",
       "    <tr>\n",
       "      <th>4</th>\n",
       "      <td>C:\\Users\\ZY\\Dropbox\\Dartbrains\\data\\Localizer\\...</td>\n",
       "      <td>NaN</td>\n",
       "      <td>.tsv</td>\n",
       "      <td>NaN</td>\n",
       "      <td>behavioural</td>\n",
       "      <td>NaN</td>\n",
       "    </tr>\n",
       "    <tr>\n",
       "      <th>...</th>\n",
       "      <td>...</td>\n",
       "      <td>...</td>\n",
       "      <td>...</td>\n",
       "      <td>...</td>\n",
       "      <td>...</td>\n",
       "      <td>...</td>\n",
       "    </tr>\n",
       "    <tr>\n",
       "      <th>3396</th>\n",
       "      <td>C:\\Users\\ZY\\Dropbox\\Dartbrains\\data\\Localizer\\...</td>\n",
       "      <td>NaN</td>\n",
       "      <td>NaN</td>\n",
       "      <td>NaN</td>\n",
       "      <td>NaN</td>\n",
       "      <td>NaN</td>\n",
       "    </tr>\n",
       "    <tr>\n",
       "      <th>3397</th>\n",
       "      <td>C:\\Users\\ZY\\Dropbox\\Dartbrains\\data\\Localizer\\...</td>\n",
       "      <td>NaN</td>\n",
       "      <td>NaN</td>\n",
       "      <td>NaN</td>\n",
       "      <td>NaN</td>\n",
       "      <td>NaN</td>\n",
       "    </tr>\n",
       "    <tr>\n",
       "      <th>3398</th>\n",
       "      <td>C:\\Users\\ZY\\Dropbox\\Dartbrains\\data\\Localizer\\...</td>\n",
       "      <td>NaN</td>\n",
       "      <td>NaN</td>\n",
       "      <td>NaN</td>\n",
       "      <td>NaN</td>\n",
       "      <td>NaN</td>\n",
       "    </tr>\n",
       "    <tr>\n",
       "      <th>3399</th>\n",
       "      <td>C:\\Users\\ZY\\Dropbox\\Dartbrains\\data\\Localizer\\...</td>\n",
       "      <td>NaN</td>\n",
       "      <td>NaN</td>\n",
       "      <td>NaN</td>\n",
       "      <td>NaN</td>\n",
       "      <td>NaN</td>\n",
       "    </tr>\n",
       "    <tr>\n",
       "      <th>3400</th>\n",
       "      <td>C:\\Users\\ZY\\Dropbox\\Dartbrains\\data\\Localizer\\...</td>\n",
       "      <td>NaN</td>\n",
       "      <td>NaN</td>\n",
       "      <td>NaN</td>\n",
       "      <td>NaN</td>\n",
       "      <td>NaN</td>\n",
       "    </tr>\n",
       "  </tbody>\n",
       "</table>\n",
       "<p>3401 rows × 6 columns</p>\n",
       "</div>"
      ],
      "text/plain": [
       "entity                                               path datatype  extension  \\\n",
       "0       C:\\Users\\ZY\\Dropbox\\Dartbrains\\data\\Localizer\\...      NaN      .json   \n",
       "1       C:\\Users\\ZY\\Dropbox\\Dartbrains\\data\\Localizer\\...      NaN  .DS_Store   \n",
       "2       C:\\Users\\ZY\\Dropbox\\Dartbrains\\data\\Localizer\\...      NaN      .json   \n",
       "3       C:\\Users\\ZY\\Dropbox\\Dartbrains\\data\\Localizer\\...      NaN       .tsv   \n",
       "4       C:\\Users\\ZY\\Dropbox\\Dartbrains\\data\\Localizer\\...      NaN       .tsv   \n",
       "...                                                   ...      ...        ...   \n",
       "3396    C:\\Users\\ZY\\Dropbox\\Dartbrains\\data\\Localizer\\...      NaN        NaN   \n",
       "3397    C:\\Users\\ZY\\Dropbox\\Dartbrains\\data\\Localizer\\...      NaN        NaN   \n",
       "3398    C:\\Users\\ZY\\Dropbox\\Dartbrains\\data\\Localizer\\...      NaN        NaN   \n",
       "3399    C:\\Users\\ZY\\Dropbox\\Dartbrains\\data\\Localizer\\...      NaN        NaN   \n",
       "3400    C:\\Users\\ZY\\Dropbox\\Dartbrains\\data\\Localizer\\...      NaN        NaN   \n",
       "\n",
       "entity subject        suffix task  \n",
       "0          NaN   description  NaN  \n",
       "1          NaN                NaN  \n",
       "2          NaN  participants  NaN  \n",
       "3          NaN  participants  NaN  \n",
       "4          NaN   behavioural  NaN  \n",
       "...        ...           ...  ...  \n",
       "3396       NaN           NaN  NaN  \n",
       "3397       NaN           NaN  NaN  \n",
       "3398       NaN           NaN  NaN  \n",
       "3399       NaN           NaN  NaN  \n",
       "3400       NaN           NaN  NaN  \n",
       "\n",
       "[3401 rows x 6 columns]"
      ]
     },
     "execution_count": 14,
     "metadata": {},
     "output_type": "execute_result"
    }
   ],
   "source": [
    "layout.to_df()"
   ]
  }
 ],
 "metadata": {
  "kernelspec": {
   "display_name": "Python 3",
   "language": "python",
   "name": "python3"
  },
  "language_info": {
   "codemirror_mode": {
    "name": "ipython",
    "version": 3
   },
   "file_extension": ".py",
   "mimetype": "text/x-python",
   "name": "python",
   "nbconvert_exporter": "python",
   "pygments_lexer": "ipython3",
   "version": "3.8.5"
  }
 },
 "nbformat": 4,
 "nbformat_minor": 4
}
