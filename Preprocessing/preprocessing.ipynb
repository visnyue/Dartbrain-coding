{
 "cells": [
  {
   "cell_type": "code",
   "execution_count": 13,
   "metadata": {
    "scrolled": false
   },
   "outputs": [
    {
     "name": "stdout",
     "output_type": "stream",
     "text": [
      "Requirement already up-to-date: fmriprep-docker in c:\\users\\zy\\appdata\\roaming\\python\\python38\\site-packages (21.0.2)\n"
     ]
    }
   ],
   "source": [
    "!pip install --user --upgrade fmriprep-docker\n"
   ]
  },
  {
   "cell_type": "code",
   "execution_count": 14,
   "metadata": {},
   "outputs": [
    {
     "name": "stdout",
     "output_type": "stream",
     "text": [
      "Downloading. This may take a while...\n",
      "RUNNING: docker run --rm -e DOCKER_VERSION_8395080871=20.10.14 -it -v C:\\Users\\ZY\\Dropbox\\Dartbrains\\License\\license.txt:/opt/freesurfer/license.txt:ro -v C:\\Users\\ZY\\Dropbox\\Dartbrains\\Data\\localizer:/data:ro -v C:\\Users\\ZY\\Dropbox\\Dartbrains\\Data\\preproc:/out -v C:\\Users\\ZY\\Dropbox\\Dartbrains\\Data\\work:/scratch nipreps/fmriprep:21.0.2 /data /out participant --participant_label sub-S00 --write-graph --fs-no-reconall --notrack -w /scratch\n",
      "fMRIPrep: Please report errors to https://github.com/nipreps/fmriprep/issues\n"
     ]
    },
    {
     "name": "stderr",
     "output_type": "stream",
     "text": [
      "Unable to find image 'nipreps/fmriprep:21.0.2' locally\n",
      "21.0.2: Pulling from nipreps/fmriprep\n",
      "345e3491a907: Already exists\n",
      "57671312ef6f: Already exists\n",
      "5e9250ddb7d0: Already exists\n",
      "f6495e0624c3: Already exists\n",
      "1ad23f967db4: Already exists\n",
      "227535442f29: Already exists\n",
      "95a564a3c4d2: Already exists\n",
      "3fa9aee2f51b: Pulling fs layer\n",
      "7918bcc3dce7: Pulling fs layer\n",
      "1d42d5b35c35: Pulling fs layer\n",
      "2e56ab619ab8: Pulling fs layer\n",
      "bff0d1e9b822: Pulling fs layer\n",
      "2bbc6d1f9dcd: Pulling fs layer\n",
      "3f7e9540dd90: Pulling fs layer\n",
      "93cc014c8c74: Pulling fs layer\n",
      "9f337de9d7b3: Pulling fs layer\n",
      "90718fc05d1d: Pulling fs layer\n",
      "78749c2d9c22: Pulling fs layer\n",
      "5bc9fe56fc26: Pulling fs layer\n",
      "71471957580e: Pulling fs layer\n",
      "c2e20950f896: Pulling fs layer\n",
      "770bc490c0b6: Pulling fs layer\n",
      "90a7eaf0407c: Pulling fs layer\n",
      "2e56ab619ab8: Waiting\n",
      "bff0d1e9b822: Waiting\n",
      "2bbc6d1f9dcd: Waiting\n",
      "90718fc05d1d: Waiting\n",
      "9f337de9d7b3: Waiting\n",
      "78749c2d9c22: Waiting\n",
      "3f7e9540dd90: Waiting\n",
      "770bc490c0b6: Waiting\n",
      "5bc9fe56fc26: Waiting\n",
      "93cc014c8c74: Waiting\n",
      "c2e20950f896: Waiting\n",
      "90a7eaf0407c: Waiting\n",
      "7918bcc3dce7: Verifying Checksum\n",
      "7918bcc3dce7: Download complete\n",
      "2e56ab619ab8: Download complete\n",
      "bff0d1e9b822: Verifying Checksum\n",
      "bff0d1e9b822: Download complete\n",
      "3fa9aee2f51b: Verifying Checksum\n",
      "3fa9aee2f51b: Download complete\n",
      "3fa9aee2f51b: Pull complete\n",
      "7918bcc3dce7: Pull complete\n",
      "2bbc6d1f9dcd: Verifying Checksum\n",
      "2bbc6d1f9dcd: Download complete\n",
      "93cc014c8c74: Verifying Checksum\n",
      "93cc014c8c74: Download complete\n",
      "9f337de9d7b3: Download complete\n",
      "90718fc05d1d: Verifying Checksum\n",
      "90718fc05d1d: Download complete\n",
      "78749c2d9c22: Verifying Checksum\n",
      "78749c2d9c22: Download complete\n",
      "5bc9fe56fc26: Verifying Checksum\n",
      "5bc9fe56fc26: Download complete\n",
      "71471957580e: Verifying Checksum\n",
      "71471957580e: Download complete\n",
      "c2e20950f896: Verifying Checksum\n",
      "c2e20950f896: Download complete\n",
      "770bc490c0b6: Verifying Checksum\n",
      "770bc490c0b6: Download complete\n",
      "90a7eaf0407c: Download complete\n",
      "1d42d5b35c35: Verifying Checksum\n",
      "1d42d5b35c35: Download complete\n",
      "1d42d5b35c35: Pull complete\n",
      "2e56ab619ab8: Pull complete\n",
      "bff0d1e9b822: Pull complete\n",
      "2bbc6d1f9dcd: Pull complete\n",
      "3f7e9540dd90: Verifying Checksum\n",
      "3f7e9540dd90: Download complete\n",
      "3f7e9540dd90: Pull complete\n",
      "93cc014c8c74: Pull complete\n",
      "9f337de9d7b3: Pull complete\n",
      "90718fc05d1d: Pull complete\n",
      "78749c2d9c22: Pull complete\n",
      "5bc9fe56fc26: Pull complete\n",
      "71471957580e: Pull complete\n",
      "c2e20950f896: Pull complete\n",
      "770bc490c0b6: Pull complete\n",
      "90a7eaf0407c: Pull complete\n",
      "Digest: sha256:7b2a5a5d2a1623e01ebf78b27918a659206642819bb0297f2acf363c3809aac5\n",
      "Status: Downloaded newer image for nipreps/fmriprep:21.0.2\n",
      "the input device is not a TTY.  If you are using mintty, try prefixing the command with 'winpty'\n"
     ]
    },
    {
     "name": "stdout",
     "output_type": "stream",
     "text": [
      "RUNNING: docker run --rm -e DOCKER_VERSION_8395080871=20.10.14 -it -v C:\\Users\\ZY\\Dropbox\\Dartbrains\\License\\license.txt:/opt/freesurfer/license.txt:ro -v C:\\Users\\ZY\\Dropbox\\Dartbrains\\Data\\localizer:/data:ro -v C:\\Users\\ZY\\Dropbox\\Dartbrains\\Data\\preproc:/out -v C:\\Users\\ZY\\Dropbox\\Dartbrains\\Data\\work:/scratch nipreps/fmriprep:21.0.2 /data /out participant --participant_label sub-S01 --write-graph --fs-no-reconall --notrack -w /scratch\n",
      "fMRIPrep: Please report errors to https://github.com/nipreps/fmriprep/issues\n"
     ]
    },
    {
     "name": "stderr",
     "output_type": "stream",
     "text": [
      "the input device is not a TTY.  If you are using mintty, try prefixing the command with 'winpty'\n"
     ]
    },
    {
     "name": "stdout",
     "output_type": "stream",
     "text": [
      "RUNNING: docker run --rm -e DOCKER_VERSION_8395080871=20.10.14 -it -v C:\\Users\\ZY\\Dropbox\\Dartbrains\\License\\license.txt:/opt/freesurfer/license.txt:ro -v C:\\Users\\ZY\\Dropbox\\Dartbrains\\Data\\localizer:/data:ro -v C:\\Users\\ZY\\Dropbox\\Dartbrains\\Data\\preproc:/out -v C:\\Users\\ZY\\Dropbox\\Dartbrains\\Data\\work:/scratch nipreps/fmriprep:21.0.2 /data /out participant --participant_label sub-S02 --write-graph --fs-no-reconall --notrack -w /scratch\n",
      "fMRIPrep: Please report errors to https://github.com/nipreps/fmriprep/issues\n"
     ]
    },
    {
     "name": "stderr",
     "output_type": "stream",
     "text": [
      "the input device is not a TTY.  If you are using mintty, try prefixing the command with 'winpty'\n"
     ]
    },
    {
     "name": "stdout",
     "output_type": "stream",
     "text": [
      "RUNNING: docker run --rm -e DOCKER_VERSION_8395080871=20.10.14 -it -v C:\\Users\\ZY\\Dropbox\\Dartbrains\\License\\license.txt:/opt/freesurfer/license.txt:ro -v C:\\Users\\ZY\\Dropbox\\Dartbrains\\Data\\localizer:/data:ro -v C:\\Users\\ZY\\Dropbox\\Dartbrains\\Data\\preproc:/out -v C:\\Users\\ZY\\Dropbox\\Dartbrains\\Data\\work:/scratch nipreps/fmriprep:21.0.2 /data /out participant --participant_label sub-S03 --write-graph --fs-no-reconall --notrack -w /scratch\n",
      "fMRIPrep: Please report errors to https://github.com/nipreps/fmriprep/issues\n"
     ]
    },
    {
     "name": "stderr",
     "output_type": "stream",
     "text": [
      "the input device is not a TTY.  If you are using mintty, try prefixing the command with 'winpty'\n"
     ]
    },
    {
     "name": "stdout",
     "output_type": "stream",
     "text": [
      "RUNNING: docker run --rm -e DOCKER_VERSION_8395080871=20.10.14 -it -v C:\\Users\\ZY\\Dropbox\\Dartbrains\\License\\license.txt:/opt/freesurfer/license.txt:ro -v C:\\Users\\ZY\\Dropbox\\Dartbrains\\Data\\localizer:/data:ro -v C:\\Users\\ZY\\Dropbox\\Dartbrains\\Data\\preproc:/out -v C:\\Users\\ZY\\Dropbox\\Dartbrains\\Data\\work:/scratch nipreps/fmriprep:21.0.2 /data /out participant --participant_label sub-S04 --write-graph --fs-no-reconall --notrack -w /scratch\n",
      "fMRIPrep: Please report errors to https://github.com/nipreps/fmriprep/issues\n"
     ]
    },
    {
     "name": "stderr",
     "output_type": "stream",
     "text": [
      "the input device is not a TTY.  If you are using mintty, try prefixing the command with 'winpty'\n"
     ]
    },
    {
     "name": "stdout",
     "output_type": "stream",
     "text": [
      "RUNNING: docker run --rm -e DOCKER_VERSION_8395080871=20.10.14 -it -v C:\\Users\\ZY\\Dropbox\\Dartbrains\\License\\license.txt:/opt/freesurfer/license.txt:ro -v C:\\Users\\ZY\\Dropbox\\Dartbrains\\Data\\localizer:/data:ro -v C:\\Users\\ZY\\Dropbox\\Dartbrains\\Data\\preproc:/out -v C:\\Users\\ZY\\Dropbox\\Dartbrains\\Data\\work:/scratch nipreps/fmriprep:21.0.2 /data /out participant --participant_label sub-S05 --write-graph --fs-no-reconall --notrack -w /scratch\n",
      "fMRIPrep: Please report errors to https://github.com/nipreps/fmriprep/issues\n"
     ]
    },
    {
     "name": "stderr",
     "output_type": "stream",
     "text": [
      "the input device is not a TTY.  If you are using mintty, try prefixing the command with 'winpty'\n"
     ]
    },
    {
     "name": "stdout",
     "output_type": "stream",
     "text": [
      "RUNNING: docker run --rm -e DOCKER_VERSION_8395080871=20.10.14 -it -v C:\\Users\\ZY\\Dropbox\\Dartbrains\\License\\license.txt:/opt/freesurfer/license.txt:ro -v C:\\Users\\ZY\\Dropbox\\Dartbrains\\Data\\localizer:/data:ro -v C:\\Users\\ZY\\Dropbox\\Dartbrains\\Data\\preproc:/out -v C:\\Users\\ZY\\Dropbox\\Dartbrains\\Data\\work:/scratch nipreps/fmriprep:21.0.2 /data /out participant --participant_label sub-S06 --write-graph --fs-no-reconall --notrack -w /scratch\n",
      "fMRIPrep: Please report errors to https://github.com/nipreps/fmriprep/issues\n"
     ]
    },
    {
     "name": "stderr",
     "output_type": "stream",
     "text": [
      "the input device is not a TTY.  If you are using mintty, try prefixing the command with 'winpty'\n"
     ]
    },
    {
     "name": "stdout",
     "output_type": "stream",
     "text": [
      "RUNNING: docker run --rm -e DOCKER_VERSION_8395080871=20.10.14 -it -v C:\\Users\\ZY\\Dropbox\\Dartbrains\\License\\license.txt:/opt/freesurfer/license.txt:ro -v C:\\Users\\ZY\\Dropbox\\Dartbrains\\Data\\localizer:/data:ro -v C:\\Users\\ZY\\Dropbox\\Dartbrains\\Data\\preproc:/out -v C:\\Users\\ZY\\Dropbox\\Dartbrains\\Data\\work:/scratch nipreps/fmriprep:21.0.2 /data /out participant --participant_label sub-S07 --write-graph --fs-no-reconall --notrack -w /scratch\n",
      "fMRIPrep: Please report errors to https://github.com/nipreps/fmriprep/issues\n"
     ]
    },
    {
     "name": "stderr",
     "output_type": "stream",
     "text": [
      "the input device is not a TTY.  If you are using mintty, try prefixing the command with 'winpty'\n"
     ]
    },
    {
     "name": "stdout",
     "output_type": "stream",
     "text": [
      "RUNNING: docker run --rm -e DOCKER_VERSION_8395080871=20.10.14 -it -v C:\\Users\\ZY\\Dropbox\\Dartbrains\\License\\license.txt:/opt/freesurfer/license.txt:ro -v C:\\Users\\ZY\\Dropbox\\Dartbrains\\Data\\localizer:/data:ro -v C:\\Users\\ZY\\Dropbox\\Dartbrains\\Data\\preproc:/out -v C:\\Users\\ZY\\Dropbox\\Dartbrains\\Data\\work:/scratch nipreps/fmriprep:21.0.2 /data /out participant --participant_label sub-S08 --write-graph --fs-no-reconall --notrack -w /scratch\n",
      "fMRIPrep: Please report errors to https://github.com/nipreps/fmriprep/issues\n"
     ]
    },
    {
     "name": "stderr",
     "output_type": "stream",
     "text": [
      "the input device is not a TTY.  If you are using mintty, try prefixing the command with 'winpty'\n"
     ]
    },
    {
     "name": "stdout",
     "output_type": "stream",
     "text": [
      "RUNNING: docker run --rm -e DOCKER_VERSION_8395080871=20.10.14 -it -v C:\\Users\\ZY\\Dropbox\\Dartbrains\\License\\license.txt:/opt/freesurfer/license.txt:ro -v C:\\Users\\ZY\\Dropbox\\Dartbrains\\Data\\localizer:/data:ro -v C:\\Users\\ZY\\Dropbox\\Dartbrains\\Data\\preproc:/out -v C:\\Users\\ZY\\Dropbox\\Dartbrains\\Data\\work:/scratch nipreps/fmriprep:21.0.2 /data /out participant --participant_label sub-S09 --write-graph --fs-no-reconall --notrack -w /scratch\n",
      "fMRIPrep: Please report errors to https://github.com/nipreps/fmriprep/issues"
     ]
    },
    {
     "name": "stderr",
     "output_type": "stream",
     "text": [
      "the input device is not a TTY.  If you are using mintty, try prefixing the command with 'winpty'\n"
     ]
    },
    {
     "name": "stdout",
     "output_type": "stream",
     "text": [
      "\n"
     ]
    }
   ],
   "source": [
    "import os\n",
    "base_dir = 'C:/Users/ZY/Dropbox/Dartbrains/Data'\n",
    "data_path = os.path.join(base_dir, 'localizer')\n",
    "output_path = os.path.join(base_dir, 'preproc')\n",
    "work_path = os.path.join(base_dir, 'work')\n",
    "\n",
    "sub = 'S01'\n",
    "subs = [f'S{x:0>2d}' for x in range(10)]\n",
    "for sub in subs:\n",
    "    !fmriprep-docker {data_path} {output_path} participant --participant_label sub-{sub} --write-graph --fs-no-reconall --notrack --fs-license-file C:/Users/ZY/Dropbox/Dartbrains/License/license.txt --work-dir {work_path}"
   ]
  },
  {
   "cell_type": "code",
   "execution_count": 7,
   "metadata": {},
   "outputs": [
    {
     "data": {
      "text/html": [
       "sub-S02.html"
      ],
      "text/plain": [
       "<IPython.core.display.HTML object>"
      ]
     },
     "execution_count": 7,
     "metadata": {},
     "output_type": "execute_result"
    }
   ],
   "source": [
    "from IPython.display import HTML\n",
    "\n",
    "HTML('sub-S02.html')"
   ]
  },
  {
   "cell_type": "code",
   "execution_count": null,
   "metadata": {},
   "outputs": [],
   "source": []
  }
 ],
 "metadata": {
  "kernelspec": {
   "display_name": "Python 3",
   "language": "python",
   "name": "python3"
  },
  "language_info": {
   "codemirror_mode": {
    "name": "ipython",
    "version": 3
   },
   "file_extension": ".py",
   "mimetype": "text/x-python",
   "name": "python",
   "nbconvert_exporter": "python",
   "pygments_lexer": "ipython3",
   "version": "3.8.5"
  }
 },
 "nbformat": 4,
 "nbformat_minor": 4
}
